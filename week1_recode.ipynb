{
 "cells": [
  {
   "cell_type": "markdown",
   "metadata": {},
   "source": [
    "## Recode all examples;"
   ]
  },
  {
   "cell_type": "code",
   "execution_count": 8,
   "metadata": {},
   "outputs": [],
   "source": [
    "import cv2\n",
    "import random\n",
    "import numpy as np\n",
    "from matplotlib import pyplot as plt"
   ]
  },
  {
   "cell_type": "code",
   "execution_count": 12,
   "metadata": {},
   "outputs": [],
   "source": [
    "img_gray = cv2.imread('./lenna1.jpg')\n",
    "# print(img_gray)\n",
    "cv2.imshow('lenna1',img_gray)\n",
    "key = cv2.waitKey()\n",
    "# 当键盘按键为ESC(对应的键值为27)，关闭图像\n",
    "if key == 27:\n",
    "    cv2.destroyAllWindows()"
   ]
  },
  {
   "cell_type": "code",
   "execution_count": 5,
   "metadata": {},
   "outputs": [],
   "source": [
    "# to show gray image to show matrix\n",
    "print(img_gray)"
   ]
  },
  {
   "cell_type": "code",
   "execution_count": 8,
   "metadata": {},
   "outputs": [
    {
     "name": "stdout",
     "output_type": "stream",
     "text": [
      "uint8\n"
     ]
    }
   ],
   "source": [
    "# to show image data type\n",
    "print(img_gray.dtype)"
   ]
  },
  {
   "cell_type": "code",
   "execution_count": 13,
   "metadata": {},
   "outputs": [
    {
     "name": "stdout",
     "output_type": "stream",
     "text": [
      "(256, 256, 3)\n"
     ]
    }
   ],
   "source": [
    "# to show image data type\n",
    "print(img_gray.shape) # h,w,c"
   ]
  },
  {
   "cell_type": "code",
   "execution_count": 2,
   "metadata": {},
   "outputs": [],
   "source": [
    "import cv2"
   ]
  },
  {
   "cell_type": "code",
   "execution_count": 6,
   "metadata": {},
   "outputs": [
    {
     "name": "stdout",
     "output_type": "stream",
     "text": [
      "[[[120 137 234]\n",
      "  [120 137 234]\n",
      "  [120 137 234]\n",
      "  ...\n",
      "  [146 145 243]\n",
      "  [144 139 238]\n",
      "  [120 116 212]]\n",
      "\n",
      " [[119 136 233]\n",
      "  [119 136 233]\n",
      "  [119 136 233]\n",
      "  ...\n",
      "  [156 152 248]\n",
      "  [150 143 240]\n",
      "  [125 119 214]]\n",
      "\n",
      " [[114 133 230]\n",
      "  [115 134 231]\n",
      "  [115 134 231]\n",
      "  ...\n",
      "  [137 129 222]\n",
      "  [123 113 206]\n",
      "  [ 98  87 179]]\n",
      "\n",
      " ...\n",
      "\n",
      " [[ 60  26  91]\n",
      "  [ 69  35 100]\n",
      "  [ 61  27  97]\n",
      "  ...\n",
      "  [ 71  50 135]\n",
      "  [ 78  62 146]\n",
      "  [ 85  70 154]]\n",
      "\n",
      " [[ 59  25  90]\n",
      "  [ 67  33  98]\n",
      "  [ 59  25  95]\n",
      "  ...\n",
      "  [ 81  62 147]\n",
      "  [ 86  70 157]\n",
      "  [ 89  76 162]]\n",
      "\n",
      " [[ 54  20  85]\n",
      "  [ 62  28  93]\n",
      "  [ 55  21  91]\n",
      "  ...\n",
      "  [ 89  73 157]\n",
      "  [ 91  77 165]\n",
      "  [ 91  79 167]]]\n",
      "(256, 256, 3)\n"
     ]
    }
   ],
   "source": [
    "img = cv2.imread('./lenna1.jpg')\n",
    "cv2.imshow('lenna',img)\n",
    "key = cv2.waitKey()\n",
    "if key == 27:\n",
    "    cv2.destroyAllWindows()\n",
    "# to show color image to show channels\n",
    "print(img)\n",
    "print(img.shape) # h,w,c\n",
    "\n",
    "# image crop\n",
    "img_crop = img[0:100,0:200]\n",
    "cv2.imshow('img_crop',img_crop)\n",
    "key = cv2.waitKey()\n",
    "if key == 27:\n",
    "    cv2.destroyAllWindows()\n",
    "    \n",
    "# color split\n",
    "B,G,R = cv2.split(img)\n",
    "cv2.imshow('B',B)\n",
    "cv2.imshow('G',G)\n",
    "cv2.imshow('R',R)\n",
    "key = cv2.waitKey()\n",
    "if key == 27:\n",
    "    cv2.destroyAllWindows()"
   ]
  },
  {
   "cell_type": "code",
   "execution_count": 12,
   "metadata": {},
   "outputs": [],
   "source": [
    "# change color\n",
    "def random_light_color(img):\n",
    "    # brightness\n",
    "    B,G,R = cv2.split(img)\n",
    "    \n",
    "    b_rand = random.randint(-50,50)\n",
    "    if b_rand == 0:\n",
    "        pass\n",
    "    elif b_rand > 0:\n",
    "        lim = 255 - b_rand\n",
    "        B[B > lim] = 255\n",
    "        B[B <= lim] = (b_rand + B[B <= lim].astype(img.dtype))\n",
    "    elif b_rand < 0:\n",
    "        lim = 0 - b_rand\n",
    "        B[B < lim] = 0\n",
    "        B[B >= lim] = (b_rand + B[B >= lim]).astype(img.dtype)\n",
    "    \n",
    "    g_rand = random.randint(-50,50)\n",
    "    if g_rand == 0:\n",
    "        pass\n",
    "    elif g_rand > 0:\n",
    "        lim = 255 - g_rand\n",
    "        G[G > lim] = 255\n",
    "        G[G <= lim] = (g_rand + G[G <= lim].astype(img.dtype))\n",
    "    elif g_rand < 0:\n",
    "        lim = 0 - g_rand\n",
    "        G[G < lim] = 0\n",
    "        G[G >= lim] = (g_rand + G[G >= lim]).astype(img.dtype)\n",
    "        \n",
    "    r_rand = random.randint(-50,50)\n",
    "    if r_rand == 0:\n",
    "        pass\n",
    "    elif r_rand > 0:\n",
    "        lim = 255 - r_rand\n",
    "        R[R > lim] = 255\n",
    "        R[R <= lim] = (r_rand + R[R <= lim].astype(img.dtype))\n",
    "    elif r_rand < 0:\n",
    "        lim = 0 - r_rand\n",
    "        R[R < lim] = 0\n",
    "        R[R >= lim] = (r_rand + R[R >= lim]).astype(img.dtype)\n",
    "        \n",
    "    img_merge = cv2.merge((B,G,R))\n",
    "    \n",
    "    return img_merge\n",
    "\n",
    "img_random_color = random_light_color(img)\n",
    "cv2.imshow('img_random_color', img_random_color)\n",
    "key =cv2.waitKey()\n",
    "if key == 27:\n",
    "    cv2.destroyAllWindows()\n",
    "    \n",
    "# ###################################################"
   ]
  },
  {
   "cell_type": "code",
   "execution_count": 19,
   "metadata": {},
   "outputs": [],
   "source": [
    "# gamma correction\n",
    "img_dark = cv2.imread('./lenna2.jpg')\n",
    "cv2.imshow('img_dark', img_dark)\n",
    "key = cv2.waitKey()\n",
    "if key == 27:\n",
    "    cv2.destroyAllWindows()\n",
    "\n",
    "    \n",
    "def adjust_gamma(image, gamma = 1.0):\n",
    "    invGamma = 1.0/gamma\n",
    "    table = []\n",
    "    for i in range(256):\n",
    "        table.append(((i/255.0) ** invGamma) *255)\n",
    "    table = np.array(table).astype(\"uint8\")\n",
    "    return cv2.LUT(img_dark,table)\n",
    "\n",
    "img_brighter = adjust_gamma(img_dark,2)\n",
    "cv2.imshow('img_dark',img_dark)\n",
    "cv2.imshow('img_brighter',img_brighter)\n",
    "key =cv2.waitKey()\n",
    "if key == 27:\n",
    "    cv2.destroyAllWindows()\n",
    "###################################"
   ]
  },
  {
   "cell_type": "code",
   "execution_count": 20,
   "metadata": {},
   "outputs": [
    {
     "data": {
      "image/png": "[encoded data removed]",
      "text/plain": [
       "<Figure size 432x288 with 1 Axes>"
      ]
     },
     "metadata": {
      "needs_background": "light"
     },
     "output_type": "display_data"
    }
   ],
   "source": [
    "# histogram\n",
    "img_small_brighter = cv2.resize(img_brighter,(int(img_brighter.shape[0]*0.5),int(img_brighter.shape[1]*0.5)))\n",
    "plt.hist(img_brighter.flatten(),256,[0,256],color='r')\n",
    "img_yuv = cv2.cvtColor(img_small_brighter,cv2.COLOR_BGR2YUV)\n",
    "# equalize the histogram of the Y channel\n",
    "img_yuv[:,:,0] = cv2.equalizeHist(img_yuv[:,:,0])\n",
    "# convert the YUV image back to RGB format\n",
    "img_output = cv2.cvtColor(img_yuv,cv2.COLOR_YUV2BGR)\n",
    "cv2.imshow('Color input image',img_small_brighter)\n",
    "cv2.imshow('Histogram equalized',img_output)\n",
    "key =cv2.waitKey(0)"
   ]
  },
  {
   "cell_type": "code",
   "execution_count": 27,
   "metadata": {},
   "outputs": [
    {
     "name": "stdout",
     "output_type": "stream",
     "text": [
      "[[  0.8660254    0.5        -46.85125168]\n",
      " [ -0.5          0.8660254   81.14874832]]\n",
      "[[  0.8660254    0.5        -46.85125168]\n",
      " [ -0.5          0.8660254   81.14874832]]\n",
      "[[  0.4330127    0.25        40.57437416]\n",
      " [ -0.25         0.4330127  104.57437416]]\n"
     ]
    }
   ],
   "source": [
    "# ##################################################\n",
    "# rotation\n",
    "M = cv2.getRotationMatrix2D((img.shape[1]/2,img.shape[0]/2),30,1) # center,angle,scale\n",
    "img_rotate = cv2.warpAffine(img,M,(img.shape[1],img.shape[0]))\n",
    "cv2.imshow('rotated lenna',img_rotate)\n",
    "key = cv2.waitKey(0)\n",
    "if key == 27:\n",
    "    cv2.destroyAllWindows()\n",
    "    \n",
    "print(M)\n",
    "\n",
    "# set M[0][2] = M[1][2]=0\n",
    "print(M)\n",
    "img_rotate2 = cv2.warpAffine(img,M,(img.shape[1],img.shape[0]))\n",
    "cv2.imshow('rotated lenna2',img_rotate2)\n",
    "key = cv2.waitKey(0)\n",
    "if key == 27:\n",
    "    cv2.destroyAllWindows()\n",
    "# explain translation\n",
    "\n",
    "# scale+rotation+translation =similarity transform\n",
    "M = cv2.getRotationMatrix2D((img.shape[1]/2,img.shape[0]/2),30,0.5) # center,angle,scale\n",
    "img_rotate = cv2.warpAffine(img,M,(img.shape[1],img.shape[0]))\n",
    "cv2.imshow('rotated lenna',img_rotate)\n",
    "key = cv2.waitKey(0)\n",
    "if key == 27:\n",
    "    cv2.destroyAllWindows()\n",
    "\n",
    "print(M)"
   ]
  },
  {
   "cell_type": "code",
   "execution_count": 30,
   "metadata": {},
   "outputs": [],
   "source": [
    "# ################################################################\n",
    "# Affine Transform\n",
    "rows,cols,ch =img.shape\n",
    "pts1 = np.float32([[0,0],[cols-1,0],[0,rows-1]])\n",
    "pts2 = np.float32([[cols * 0.2,rows * 0.1],[cols * 0.9,rows * 0.2],[cols*0.1,rows*0.9]])\n",
    "\n",
    "M = cv2.getAffineTransform(pts1,pts2)\n",
    "dst = cv2.warpAffine(img,M,(cols,rows))\n",
    "\n",
    "cv2.imshow('affine lenna',dst)\n",
    "key =cv2.waitKey(0)\n",
    "if key==27:\n",
    "    cv2.destroyAllWindows()\n",
    "###################################################################"
   ]
  },
  {
   "cell_type": "code",
   "execution_count": null,
   "metadata": {},
   "outputs": [],
   "source": [
    "###########################################\n",
    "# perspective transform\n",
    "def random_warp(img, row, col):\n",
    "    height,width,channels = img.shape\n",
    "    \n",
    "    # warp\n",
    "    random_margin = 60\n",
    "    x1 = random.randint(-random_margin,random_margin)\n",
    "    y1 = random.randint(-random_margin,random_margin)\n",
    "    x2 = random.randint(width-random_margin-1,width-1)\n",
    "    y2 = random.randint(-random_margin,random_margin)\n",
    "    x3 = random.randint(width - random_margin-1,width-1)\n",
    "    y3 = random.randint(height -random_margin-1,height-1)\n",
    "    x4 = random.randint(-random_margin,random_margin)\n",
    "    y4 = random.randint(height-random_margin-1,height-1)\n",
    "    \n",
    "    dx1 = random.randint(-random_margin,random_margin)\n",
    "    dy1 = random.randint(-random_margin,random_margin)\n",
    "    dx2 = random.randint(width - random_margin -1,width-1)\n",
    "    dy2 = random.randint(-random_margin,random_margin)\n",
    "    dx3 = random.randint(width - random_margin-1,width-1)\n",
    "    dy3 = random.randint(height - random_margin-1,height-1)\n",
    "    dx4 = random.randint(-random_margin,random_margin)\n",
    "    dy4 = random.randint(height - random_margin-1,height-1)\n",
    "    \n",
    "    pts1 = np.float32([[x1,y1],[x2,y2],[x3,y3],[x4,y4]])\n",
    "    pts2 = np.float32([[dx1,dy1],[dx2,dy2],[dx3,dy3],[dx4,dy4]])\n",
    "    M_warp = cv2.getPerspectiveTransform(pts1,pts2)\n",
    "    img_warp = cv2.warpPerspective(img,M_warp,(width,height))\n",
    "    return M_warp,img_warp\n",
    "M_warp,img_warp = random_warp(img,img.shape[0],img.shape[1])\n",
    "cv2.imshow('lenna_war',img_warp)\n",
    "key = cv2.waitKey(0)\n",
    "if key == 27:\n",
    "    cv2.destroyAllWindows()"
   ]
  },
  {
   "cell_type": "code",
   "execution_count": null,
   "metadata": {},
   "outputs": [],
   "source": []
  }
 ],
 "metadata": {
  "kernelspec": {
   "display_name": "Python 3",
   "language": "python",
   "name": "python3"
  },
  "language_info": {
   "codemirror_mode": {
    "name": "ipython",
    "version": 3
   },
   "file_extension": ".py",
   "mimetype": "text/x-python",
   "name": "python",
   "nbconvert_exporter": "python",
   "pygments_lexer": "ipython3",
   "version": "3.7.3"
  }
 },
 "nbformat": 4,
 "nbformat_minor": 2
}
