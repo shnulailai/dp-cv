{
 "cells": [
  {
   "cell_type": "code",
   "execution_count": 1,
   "metadata": {},
   "outputs": [],
   "source": [
    "#       We haven't told RANSAC algorithm this week. So please try to do the reading.\n",
    "#       And now, we can describe it here:\n",
    "#       We have 2 sets of points, say, Points A and Points B. We use A.1 to denote the first point in A, \n",
    "#       B.2 the 2nd point in B and so forth. Ideally, A.1 is corresponding to B.1, ... A.m corresponding \n",
    "#       B.m. However, it's obvious that the matching cannot be so perfect and the matching in our real\n",
    "#       world is like: \n",
    "#       A.1-B.13, A.2-B.24, A.3-x (has no matching), x-B.5, A.4-B.24(This is a wrong matching) ...\n",
    "#       The target of RANSAC is to find out the true matching within this messy.\n",
    "#       \n",
    "#       Algorithm for this procedure can be described like this:\n",
    "#       1. Choose 4 pair of points randomly in our matching points. Those four called \"inlier\" (中文： 内点) while \n",
    "#          others \"outlier\" (中文： 外点)\n",
    "#       2. Get the homography of the inliers\n",
    "#       3. Use this computed homography to test all the other outliers. And separated them by using a threshold \n",
    "#          into two parts:\n",
    "#          a. new inliers which is satisfied our computed homography\n",
    "#          b. new outliers which is not satisfied by our computed homography.\n",
    "#       4. Get our all inliers (new inliers + old inliers) and goto step 2\n",
    "#       5. As long as there's no changes or we have already repeated step 2-4 k, a number actually can be computed,\n",
    "#          times, we jump out of the recursion. The final homography matrix will be the one that we want.\n",
    "#\n",
    "#       [WARNING!!! RANSAC is a general method. Here we add our matching background to that.]\n",
    "#\n",
    "#       Your task: please complete pseudo code (it would be great if you hand in real code!) of this procedure.\n",
    "#\n",
    "#       Python:\n",
    "#       def ransacMatching(A, B):\n",
    "#           A & B: List of List"
   ]
  },
  {
   "cell_type": "code",
   "execution_count": 1,
   "metadata": {},
   "outputs": [],
   "source": [
    "def ransacMatching(A,B):\n",
    "    # A & B: List of List\n",
    "    '''\n",
    "    pseudo code:\n",
    "    \n",
    "    Input: inlier ← random.sample(A,4) + random.sample(B,4)\n",
    "    Output: H （homography matrix）\n",
    "    Initial:outlier ← [],k ← 0,t ← 1,threhold ← 0.005（阈值）\n",
    "    Procedure:\n",
    "    step1：compute homography of inlier:H \n",
    "    step2：while k< 1000 and t !=0:\n",
    "                 t ← 0\n",
    "                 if outlier is not None:\n",
    "                       for point in outlier:\n",
    "                           error ← the error of points with H\n",
    "                           if e < threhold: \n",
    "                                 point is new inlier\n",
    "                                 t ← 1\n",
    "                  if inlier is not None:\n",
    "                       for point in outlier:\n",
    "                           error ← the error of points with H\n",
    "                           if e >= threhold: \n",
    "                                 point is new inlier\n",
    "                                 t ← 1\n",
    "                  sample_inlier ← random.sample(inlier,4)\n",
    "                  H ← homography of sample_inlier\n",
    "                  k ← k + 1\n",
    "            return H\n",
    "    '''"
   ]
  },
  {
   "cell_type": "code",
   "execution_count": 3,
   "metadata": {},
   "outputs": [],
   "source": [
    "def main():\n",
    "    \n",
    "    "
   ]
  },
  {
   "cell_type": "code",
   "execution_count": 5,
   "metadata": {},
   "outputs": [],
   "source": [
    "if __name__ == \"__main\":\n",
    "    main()"
   ]
  }
 ],
 "metadata": {
  "kernelspec": {
   "display_name": "Python 3",
   "language": "python",
   "name": "python3"
  },
  "language_info": {
   "codemirror_mode": {
    "name": "ipython",
    "version": 3
   },
   "file_extension": ".py",
   "mimetype": "text/x-python",
   "name": "python",
   "nbconvert_exporter": "python",
   "pygments_lexer": "ipython3",
   "version": "3.7.3"
  }
 },
 "nbformat": 4,
 "nbformat_minor": 2
}
