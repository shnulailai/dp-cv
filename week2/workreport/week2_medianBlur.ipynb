{
 "cells": [
  {
   "cell_type": "code",
   "execution_count": 1,
   "metadata": {},
   "outputs": [],
   "source": [
    "import cv2\n",
    "import numpy as np"
   ]
  },
  {
   "cell_type": "code",
   "execution_count": 2,
   "metadata": {},
   "outputs": [],
   "source": [
    "#    You can assume your input has only one channel. (a.k.a a normal 2D list/vector)\n",
    "#    And you do need to consider the padding method and size. There are 2 padding ways: REPLICA & ZERO. When \n",
    "#    \"REPLICA\" is given to you, the padded pixels are same with the border pixels. E.g is [1 2 3] is your\n",
    "#    image, the padded version will be [(...1 1) 1 2 3 (3 3...)] where how many 1 & 3 in the parenthesis \n",
    "#    depends on your padding size. When \"ZERO\", the padded version will be [(...0 0) 1 2 3 (0 0...)]\n",
    "# 一维卷积\n",
    "def medianBlur_1(img, kernel, padding_way):\n",
    "    imarray = np.array(img)\n",
    "    # 求出需要补0的个数（前后都补的话*2）\n",
    "    padding = int(kernel/2)\n",
    "    # 添加数组长度\n",
    "    n = len(img)+2*padding\n",
    "    # 根据补0拼接成新的数组\n",
    "    temp_arr = np.zeros((n,), dtype=np.int)\n",
    "    if padding_way == 'ZERO': \n",
    "        # 将原始数值填充\n",
    "        temp_arr[padding:-padding] = img\n",
    "    elif padding_way == 'REPLICA': \n",
    "        # 将原始数值填充首末数值\n",
    "        temp_arr[0:padding] = img[0]\n",
    "        temp_arr[padding:-padding] = img\n",
    "        temp_arr[-padding:] = img[len(img)-1]\n",
    "    else:\n",
    "        return \n",
    "    result_list = []\n",
    "    # 遍历数组，寻找中位数\n",
    "    for i in range(n):\n",
    "        if i == n-padding-1:\n",
    "            break\n",
    "        # 每三个遍历\n",
    "        result_list.append(np.median(temp_arr[i:i+kernel]))\n",
    "    return result_list"
   ]
  },
  {
   "cell_type": "code",
   "execution_count": 21,
   "metadata": {},
   "outputs": [],
   "source": [
    "#    Assume your input's size of the image is W x H, kernel size's m x n. You may first complete a version \n",
    "#    with O(W·H·m·n log(m·n)) to O(W·H·m·n·m·n)).\n",
    "#    Follow up 1: Can it be completed in a shorter time complexity?\n",
    "# 二维卷积\n",
    "def medianBlur_2(img, kernel, padding_way):\n",
    "    h,w=img.shape[0],img.shape[1]\n",
    "    print(img)\n",
    "    # 确认补充0的宽高\n",
    "    padding_n,padding_m = int(kernel[0]/2),int(kernel[1]/2)\n",
    "    # 建立新的图像宽度\n",
    "    img1 = np.zeros((h+padding_n*2,w+padding_m*2),np.uint8)\n",
    "    # 将原始数值填充,对矩阵进行扩容，形成新的img1图像\n",
    "    img1[padding_m:-padding_m,padding_n:-padding_n] = img[:,:]\n",
    "    if padding_way==\"REPLICA\":\n",
    "        # 补齐上边部分\n",
    "        img1[0:padding_n][:] = img1[padding_n][:]    \n",
    "        # 补齐下边部分\n",
    "        img1[-padding_n:][:] = img1[-padding_n-1][:]   \n",
    "        # 补齐左边部分\n",
    "        for k in range(padding_m):\n",
    "            img1[:,k] = img1[:,padding_m] \n",
    "        # 补齐右边部分\n",
    "        for kk in range(-padding_m,-1):\n",
    "            img1[:,kk] = img1[:,-padding_m-1]\n",
    "        # range不包含最后一项（-1）\n",
    "        img1[:,-1] = img1[:,-padding_m-1]\n",
    "        print(img1)\n",
    "    elif padding_way==\"ZERO\":\n",
    "        pass\n",
    "    else:\n",
    "        return     \n",
    "    # 卷积核从数值为原始数值的地方开始遍历\n",
    "    # 遍历每一行每一列\n",
    "    for i in range (padding_n,h-1):\n",
    "        for j in range (padding_m,w-1):\n",
    "            # 卷积核 m*n,取出核内的所有值的中位数，确定核的位置            \n",
    "            img[i,j]=np.median(img1[i-int(padding_n/2):i-int(padding_n/2)+padding_n,j-int(padding_m/2):j-int(padding_m/2)+padding_m])\n",
    "    return img"
   ]
  },
  {
   "cell_type": "code",
   "execution_count": 24,
   "metadata": {},
   "outputs": [],
   "source": [
    "def main():\n",
    "    # assume 1\n",
    "    img = [1,3,3,11,2,1,1,23]\n",
    "    kernel = 3\n",
    "#   padding_way = 'ZERO'\n",
    "    padding_way = 'REPLICA'\n",
    "    result = medianBlur_1(img, kernel, padding_way)\n",
    "    print(result)\n",
    "    #  assume 2 单通道处理\n",
    "    img = cv2.imread('lenna1.jpg',0)\n",
    "    cv2.imshow(\"img0\",img)\n",
    "    # 用填充0处理\n",
    "#     padding_way = 'ZERO'\n",
    "    # 用边界值填充\n",
    "    padding_way = 'REPLICA'\n",
    "    # （3，3） （5，5） （7，7）\n",
    "    kernel = [9,9]\n",
    "    img1 = medianBlur_2(img, kernel, padding_way)  \n",
    "    cv2.imshow(\"img1\",img1)\n",
    "    key = cv2.waitKey(0)\n",
    "    if key == 27:\n",
    "        cv2.destroyAllWindows()"
   ]
  },
  {
   "cell_type": "code",
   "execution_count": 25,
   "metadata": {},
   "outputs": [
    {
     "name": "stdout",
     "output_type": "stream",
     "text": [
      "[1.0, 3.0, 3.0, 3.0, 2.0, 1.0, 1.0, 23.0]\n",
      "[[164 164 164 ... 174 169 145]\n",
      " [163 163 163 ... 181 173 148]\n",
      " [160 161 161 ... 158 142 116]\n",
      " ...\n",
      " [ 49  58  52 ...  78  89  97]\n",
      " [ 48  56  50 ...  90  98 103]\n",
      " [ 43  51  46 ... 100 105 107]]\n",
      "[[164 164 164 ... 145 145 145]\n",
      " [164 164 164 ... 145 145 145]\n",
      " [164 164 164 ... 145 145 145]\n",
      " ...\n",
      " [ 43  43  43 ... 107 107 107]\n",
      " [ 43  43  43 ... 107 107 107]\n",
      " [ 43  43  43 ... 107 107 107]]\n"
     ]
    }
   ],
   "source": [
    "if __name__ == '__main__':\n",
    "    main()   "
   ]
  },
  {
   "cell_type": "code",
   "execution_count": null,
   "metadata": {},
   "outputs": [],
   "source": []
  }
 ],
 "metadata": {
  "kernelspec": {
   "display_name": "Python 3",
   "language": "python",
   "name": "python3"
  },
  "language_info": {
   "codemirror_mode": {
    "name": "ipython",
    "version": 3
   },
   "file_extension": ".py",
   "mimetype": "text/x-python",
   "name": "python",
   "nbconvert_exporter": "python",
   "pygments_lexer": "ipython3",
   "version": "3.7.3"
  }
 },
 "nbformat": 4,
 "nbformat_minor": 2
}
